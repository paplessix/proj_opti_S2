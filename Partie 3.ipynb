{
 "cells": [
  {
   "cell_type": "markdown",
   "metadata": {},
   "source": [
    "## 2eme partie "
   ]
  },
  {
   "cell_type": "markdown",
   "metadata": {},
   "source": [
    "Modèle utilisé : \n",
    "\n",
    "\\begin{aligned}\n",
    "\\min_{P, T^i} \\; & \\Delta \\sum_{k=0}^T c_k P_k \\\\\n",
    "     \\text{s.c.} & \\quad T^i_{k+1} = f_k(T^i_k, P^i_k, p) & \\forall k \\\\\n",
    "                 & \\quad 0 \\leq P_k \\leq \\overline{P} & \\forall k \\\\\n",
    "                 & \\quad \\underline{T}^i_{k} \\leq T^i_k \\leq \\overline{T}_k^i & \\forall k\n",
    "\\end{aligned}\n",
    "### Modélisation de l'immeuble\n",
    "\n",
    "Le batiment considéré est un immeuble à chauffage collectif piloté. \n",
    "On a montré dans le cadre de la première partie que la température d'une maison pouvait suivre l'équation dynamique discrétisée définit par : \n",
    "- $T^i_{k+1} = T^i_k + \\dfrac{\\Delta\\, p_1}{c_{air}} (p_2 (T^e_k - T^i_k) + p_3 \\Phi_s^k )$\n",
    "\n",
    "Extrapolons le cas présenté ci dessus au cadre d'un immeuble à deux appartements : \n",
    "- Supposons que l'immeuble est représenté par l'empilement de deux sous ensembles tels que considérés dans le cadre précédent :\n",
    "    - Pas d'échange avec le sol\n",
    "    - Température uniforme dans l'ensemble\n",
    "    - Régime permanent atteint très vite\n",
    "- On remarque que l'on considère deux comportements différents:\n",
    "    - L'appartement du haut qui n'a pas d'appartement au dessus de lui et qui par conséquent reçoit un plus grand flux thermique de rayonnement provenant du soleil, et qui reçoit de la température de l'appartement du dessous\n",
    "    - L'appartement du bas qui reçoit moins de flux solaire que dans le cadre de la maison qui reçoit tout de même un flux provenant de l'appartement supérieur. Cet appartement ne reçoit pas de flux par le bas.\n",
    "    - Ces deux appartements représentent les cas limites. Dans le cadre d'un immeuble à N étages, il faut considérer des appartements qui possèdent des échanges de flux avec les appartements voisins par dessus et par dessous . \n",
    "\n",
    "\n",
    "On s'intéressera donc dans un premier temps au cas de l'immeuble à 2 appartements. Mais l'on peut facilement extrapoler à un nombre supérieur d'étages assez facilement. \n",
    "\n",
    "On appelle $\\boxed{1}$ l'appartement supérieur et  $\\boxed{2}$ l'appartement inférieur.\n",
    "\n",
    "#### Cas de  $\\boxed{1}$\n",
    "\n",
    "On peut modifier quelque peu l'équation dynamique de la température suivant les nouvelles contraintes : \n",
    "- On suppose que le flux solaire est reçu de façon égale par toutes les faces ( argument très très contestable, on pourra affiner avec une valeur plus réaliste par la suite) d'où le flux reçu est le même que dans le cadre de la maison. \n",
    "- On suppose que l'appartement  $\\boxed{1}$ reçoit en plus que dans le cas initial par le sol un flux thermique égal à $\\frac{p_2}{5}(T_2-T_1)$\n",
    "- On considère l'apport du chauffage, c'est à dire on suppose que l'ensemble de l'électricité utilisée par le  chauffage sert à chauffer la pièce. \n",
    "\n",
    "On obtient ainsi: $T^1_{k+1} = f^1_k(T^i_k, P^i_k, p)$, avec $$f^1_k(T^i_k, P^i_k, p) = T^i_k + \\dfrac{\\Delta\\, p_1}{c_{air}} (p_2 (T^e_k - T^i_k) + p_3 \\Phi_s^k +\\frac{p_2}{5}(T^2_k-T^1_k)+P^1)$$\n",
    "\n",
    "#### Cas de  $\\boxed{2}$\n",
    "On peut modifier quelque peu l'équation dynamique de la température suivant les nouvelles contraintes : \n",
    "- On suppose que le flux solaire est reçu de façon égale par toutes les faces ( argument très très contestable, on pourra affiner avec une valeur plus réaliste par la suite) d'où ici le flux reçu est égal à $4/5p_3\\Phi_{sol}$\n",
    "- On suppose que l'appartement  $\\boxed{2}$ reçoit en plus que dans le cas initial par le toit un flux thermique égal à $\\frac{p_2}{5}(T_1-T_2)$\n",
    "- On considère l'apport du chauffage, c'est à dire on suppose que l'ensemble de l'électircité utilisée par le  chauffage sert à chauffer la pièce. \n",
    "\n",
    "On obtient ainsi: $T^2_{k+1} = f^2_k(T^i_k, P^i_k, p)$, avec $$f^2_k(T^i_k, P^i_k, p) = T^i_k + \\dfrac{\\Delta\\, p_1}{c_{air}} (p_2 (T^e_k - T^i_k) +4/5p_3 \\Phi_s^k +\\frac{p_2}{5}(T^1_k-T^2_k) + P^2)$$\n",
    "\n",
    "On en déduit donc le nouveau problème d'optimisation de la consommation du chaufffage central piloté. \n",
    "\n",
    "\\begin{aligned}\n",
    "\\min_{P^1,P^2, T^1, T^2} \\; & \\Delta \\sum_{k=0}^T c_k (P^1_k+P^2_k) \\\\\n",
    "     \\text{s.c.} & \\quad T^i_{k+1} = f^i_k(T^i_k, P^i_k, p) & \\forall k ,\\ i\\in{1,2} \\\\\n",
    "                 & \\quad 0 \\leq P^1_k + P^2_k \\leq \\overline{P} & \\forall k \\\\\n",
    "                 & \\quad \\underline{T}^i_{k} \\leq T^i_k \\leq \\overline{T}_k^i & \\forall k, \\ i\\in{1,2}\n",
    "\\end{aligned}"
   ]
  },
  {
   "cell_type": "markdown",
   "metadata": {},
   "source": [
    "### Décomposition coordination\n",
    "\n",
    "Montrons que l'utilisation d'un algorithme de décomposition coordination est ici possible. \n",
    "La fonction de coût est clairement décomposable selon le type d'appartement considéré considérons que nos variables de décisions sont $P^1,p^2,T^1,T^2\\  \\forall k$.\n",
    "\n",
    "\n",
    "ainsi $f_1(P^1) = <C|P^1>$ et $f_2(P^2) = <C|P^2>$\n",
    "\n",
    "Contraintes : \n",
    "- Contraintes sur la puissance : \n",
    "    - $0 \\leq P^1 \\leq \\bar{P}/2$ et  $0 \\leq P^2 \\leq \\bar{P}/2$\n",
    "- Contraintes sur la température : \n"
   ]
  },
  {
   "cell_type": "code",
   "execution_count": 1,
   "metadata": {},
   "outputs": [
    {
     "ename": "NameError",
     "evalue": "name 'cost1' is not defined",
     "output_type": "error",
     "traceback": [
      "\u001b[1;31m---------------------------------------------------------------------------\u001b[0m",
      "\u001b[1;31mNameError\u001b[0m                                 Traceback (most recent call last)",
      "\u001b[1;32m<ipython-input-1-8778fb0eeb7d>\u001b[0m in \u001b[0;36m<module>\u001b[1;34m\u001b[0m\n\u001b[1;32m----> 1\u001b[1;33m \u001b[0mbuilding\u001b[0m \u001b[1;33m=\u001b[0m \u001b[1;33m[\u001b[0m\u001b[1;33m[\u001b[0m\u001b[0mcost1\u001b[0m\u001b[1;33m,\u001b[0m\u001b[0mcon1\u001b[0m\u001b[1;33m]\u001b[0m\u001b[1;33m,\u001b[0m \u001b[1;33m[\u001b[0m\u001b[0mcost1\u001b[0m\u001b[1;33m,\u001b[0m\u001b[0mcon1\u001b[0m\u001b[1;33m]\u001b[0m\u001b[1;33m]\u001b[0m\u001b[1;33m\u001b[0m\u001b[1;33m\u001b[0m\u001b[0m\n\u001b[0m",
      "\u001b[1;31mNameError\u001b[0m: name 'cost1' is not defined"
     ]
    }
   ],
   "source": [
    "\n"
   ]
  },
  {
   "cell_type": "code",
   "execution_count": null,
   "metadata": {},
   "outputs": [],
   "source": [
    "from scipy.optimize import *"
   ]
  },
  {
   "cell_type": "code",
   "execution_count": null,
   "metadata": {},
   "outputs": [],
   "source": [
    "def decomp_coord(building, rho, lambda0 = 10):\n",
    "    #Décompositon\n",
    "    for cost_i, con_i in building:\n",
    "        res = minimize "
   ]
  }
 ],
 "metadata": {
  "kernelspec": {
   "display_name": "Python 3.7.3 64-bit",
   "language": "python",
   "name": "python37364bit4f6cb49f9f0d4b00bd7769613cf6b5b4"
  },
  "language_info": {
   "codemirror_mode": {
    "name": "ipython",
    "version": 3
   },
   "file_extension": ".py",
   "mimetype": "text/x-python",
   "name": "python",
   "nbconvert_exporter": "python",
   "pygments_lexer": "ipython3",
   "version": "3.7.6"
  }
 },
 "nbformat": 4,
 "nbformat_minor": 4
}
